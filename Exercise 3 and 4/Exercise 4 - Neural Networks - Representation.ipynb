{
 "cells": [
  {
   "cell_type": "code",
   "execution_count": 8,
   "metadata": {
    "collapsed": true
   },
   "outputs": [],
   "source": [
    "import numpy as np\n",
    "import pandas as pd\n",
    "%matplotlib notebook\n",
    "import matplotlib.pyplot as plt\n",
    "from mpl_toolkits.mplot3d import Axes3D\n",
    "from matplotlib import cm\n",
    "from scipy import special, optimize, io, misc\n",
    "import random"
   ]
  },
  {
   "cell_type": "code",
   "execution_count": 9,
   "metadata": {
    "collapsed": true
   },
   "outputs": [],
   "source": [
    "mat1 = io.loadmat('ex3data1.mat')"
   ]
  },
  {
   "cell_type": "code",
   "execution_count": 10,
   "metadata": {
    "collapsed": true
   },
   "outputs": [],
   "source": [
    "mat2 = io.loadmat('ex3weights.mat')"
   ]
  },
  {
   "cell_type": "code",
   "execution_count": 11,
   "metadata": {},
   "outputs": [],
   "source": [
    "layers = 3\n",
    "weights = []\n",
    "activations = []\n",
    "\n",
    "weights.extend([mat2['Theta1'], mat2['Theta2']])\n",
    "weights[0].shape\n",
    "layers = len(weights) + 1"
   ]
  },
  {
   "cell_type": "code",
   "execution_count": 12,
   "metadata": {
    "collapsed": true
   },
   "outputs": [],
   "source": [
    "X = pd.DataFrame(mat1['X'])\n",
    "classes = [i for i in range(1, 11)]\n",
    "def forwardPropagateAndPredict(ind):\n",
    "    activations = []\n",
    "    activations.append(np.asarray(X.iloc[ind, :]))\n",
    "    for i in range(1, layers):\n",
    "        temp = np.insert(activations[i - 1], obj=0, values=1)\n",
    "        activations.append(special.expit(np.dot(weights[i - 1], temp)))\n",
    "    return classes[np.argmax(activations[layers - 1])]"
   ]
  },
  {
   "cell_type": "code",
   "execution_count": 13,
   "metadata": {},
   "outputs": [],
   "source": [
    "predictions = []\n",
    "for i in range(0, 5000):\n",
    "    predictions.append(forwardPropagateAndPredict(i))\n"
   ]
  },
  {
   "cell_type": "code",
   "execution_count": 14,
   "metadata": {},
   "outputs": [
    {
     "name": "stdout",
     "output_type": "stream",
     "text": [
      "97.52\n"
     ]
    }
   ],
   "source": [
    "answers = np.asarray(predictions) == np.asarray(mat1['y']).flatten()\n",
    "print(str((len(answers[answers == True])/len(answers))*100))"
   ]
  }
 ],
 "metadata": {
  "kernelspec": {
   "display_name": "Python 3",
   "language": "python",
   "name": "python3"
  },
  "language_info": {
   "codemirror_mode": {
    "name": "ipython",
    "version": 3
   },
   "file_extension": ".py",
   "mimetype": "text/x-python",
   "name": "python",
   "nbconvert_exporter": "python",
   "pygments_lexer": "ipython3",
   "version": "3.6.2"
  }
 },
 "nbformat": 4,
 "nbformat_minor": 2
}
