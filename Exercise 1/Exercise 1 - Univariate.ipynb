{
 "cells": [
  {
   "cell_type": "code",
   "execution_count": 1,
   "metadata": {
    "collapsed": true
   },
   "outputs": [],
   "source": [
    "import numpy as np\n",
    "import pandas as pd\n",
    "import matplotlib.pyplot as plt\n",
    "import random\n",
    "from mpl_toolkits.mplot3d import Axes3D\n",
    "from matplotlib import cm"
   ]
  },
  {
   "cell_type": "markdown",
   "metadata": {},
   "source": [
    "Import and normalize data."
   ]
  },
  {
   "cell_type": "code",
   "execution_count": 2,
   "metadata": {},
   "outputs": [],
   "source": [
    "data = pd.read_csv('ex1/ex1data1.txt', header=None, names=['population', 'profit'])\n",
    "\n",
    "mins = []\n",
    "maxs = []\n",
    "\n",
    "for i in range(data.shape[1]):\n",
    "    curMin = data.iloc[:, i].min()\n",
    "    mins.append(curMin)\n",
    "    data.iloc[:, i] -= curMin\n",
    "    curMax = data.iloc[:, i].max()\n",
    "    maxs.append(curMax)\n",
    "    data.iloc[:, i] /= curMax"
   ]
  },
  {
   "cell_type": "markdown",
   "metadata": {},
   "source": [
    "Plot data."
   ]
  },
  {
   "cell_type": "code",
   "execution_count": 3,
   "metadata": {
    "scrolled": true
   },
   "outputs": [
    {
     "data": {
      "image/png": "[encoded data removed]",
      "text/plain": [
       "<matplotlib.figure.Figure at 0x16bf01d8b00>"
      ]
     },
     "metadata": {},
     "output_type": "display_data"
    }
   ],
   "source": [
    "plt.scatter(data.iloc[:, 0], data.iloc[:, 1], marker='x', c='r')\n",
    "plt.xlabel('Population in 10,000s')\n",
    "plt.ylabel('Profit in $10,000s')\n",
    "plt.title('Profit vs Population')\n",
    "plt.show()"
   ]
  },
  {
   "cell_type": "markdown",
   "metadata": {},
   "source": [
    "Insert x0 feature."
   ]
  },
  {
   "cell_type": "code",
   "execution_count": 4,
   "metadata": {
    "collapsed": true,
    "scrolled": true
   },
   "outputs": [],
   "source": [
    "data.insert(0, 'x0', 1)"
   ]
  },
  {
   "cell_type": "code",
   "execution_count": 5,
   "metadata": {
    "scrolled": true
   },
   "outputs": [
    {
     "data": {
      "text/html": [
       "<div>\n",
       "<style>\n",
       "    .dataframe thead tr:only-child th {\n",
       "        text-align: right;\n",
       "    }\n",
       "\n",
       "    .dataframe thead th {\n",
       "        text-align: left;\n",
       "    }\n",
       "\n",
       "    .dataframe tbody tr th {\n",
       "        vertical-align: top;\n",
       "    }\n",
       "</style>\n",
       "<table border=\"1\" class=\"dataframe\">\n",
       "  <thead>\n",
       "    <tr style=\"text-align: right;\">\n",
       "      <th></th>\n",
       "      <th>x0</th>\n",
       "      <th>population</th>\n",
       "      <th>profit</th>\n",
       "    </tr>\n",
       "  </thead>\n",
       "  <tbody>\n",
       "    <tr>\n",
       "      <th>0</th>\n",
       "      <td>1</td>\n",
       "      <td>0.063064</td>\n",
       "      <td>0.755663</td>\n",
       "    </tr>\n",
       "    <tr>\n",
       "      <th>1</th>\n",
       "      <td>1</td>\n",
       "      <td>0.029157</td>\n",
       "      <td>0.440250</td>\n",
       "    </tr>\n",
       "    <tr>\n",
       "      <th>2</th>\n",
       "      <td>1</td>\n",
       "      <td>0.203288</td>\n",
       "      <td>0.609173</td>\n",
       "    </tr>\n",
       "    <tr>\n",
       "      <th>3</th>\n",
       "      <td>1</td>\n",
       "      <td>0.115061</td>\n",
       "      <td>0.541780</td>\n",
       "    </tr>\n",
       "    <tr>\n",
       "      <th>4</th>\n",
       "      <td>1</td>\n",
       "      <td>0.048492</td>\n",
       "      <td>0.354261</td>\n",
       "    </tr>\n",
       "  </tbody>\n",
       "</table>\n",
       "</div>"
      ],
      "text/plain": [
       "   x0  population    profit\n",
       "0   1    0.063064  0.755663\n",
       "1   1    0.029157  0.440250\n",
       "2   1    0.203288  0.609173\n",
       "3   1    0.115061  0.541780\n",
       "4   1    0.048492  0.354261"
      ]
     },
     "execution_count": 5,
     "metadata": {},
     "output_type": "execute_result"
    }
   ],
   "source": [
    "data.head()"
   ]
  },
  {
   "cell_type": "markdown",
   "metadata": {},
   "source": [
    "m = number of training examples\n",
    "\n",
    "n = number of features excluding x0"
   ]
  },
  {
   "cell_type": "code",
   "execution_count": 6,
   "metadata": {
    "collapsed": true
   },
   "outputs": [],
   "source": [
    "m = data.shape[0]\n",
    "n = data.shape[1] - 2"
   ]
  },
  {
   "cell_type": "markdown",
   "metadata": {},
   "source": [
    "feature_vectors is a list of vectors, each of which contains all features including x0."
   ]
  },
  {
   "cell_type": "code",
   "execution_count": 7,
   "metadata": {
    "collapsed": true
   },
   "outputs": [],
   "source": [
    "feature_vectors = [data.iloc[i, :n + 1].values for i in range(m)]"
   ]
  },
  {
   "cell_type": "code",
   "execution_count": 8,
   "metadata": {
    "scrolled": true
   },
   "outputs": [
    {
     "data": {
      "text/plain": [
       "[array([ 1.        ,  0.06306437]),\n",
       " array([ 1.        ,  0.02915679]),\n",
       " array([ 1.        ,  0.20328829]),\n",
       " array([ 1.        ,  0.11506104]),\n",
       " array([ 1.       ,  0.0484918]),\n",
       " array([ 1.        ,  0.19538778]),\n",
       " array([ 1.        ,  0.14261095]),\n",
       " array([ 1.        ,  0.20675241]),\n",
       " array([ 1.        ,  0.08496108]),\n",
       " array([ 1.        ,  0.00161271]),\n",
       " array([ 1.        ,  0.03981113]),\n",
       " array([ 1.        ,  0.53196593]),\n",
       " array([ 1.        ,  0.04116767]),\n",
       " array([ 1.       ,  0.1968724]),\n",
       " array([ 1.       ,  0.0357357]),\n",
       " array([ 1.       ,  0.0205227]),\n",
       " array([ 1.        ,  0.07792805]),\n",
       " array([ 1.        ,  0.00600835]),\n",
       " array([ 1.       ,  0.0816658]),\n",
       " array([ 1.        ,  0.11899675]),\n",
       " array([ 1.        ,  0.06766379]),\n",
       " array([ 1.       ,  0.8874599]),\n",
       " array([ 1.        ,  0.02696771]),\n",
       " array([ 1.        ,  0.07563999]),\n",
       " array([ 1.        ,  0.03132259]),\n",
       " array([ 1.        ,  0.81031783]),\n",
       " array([ 1.        ,  0.45418343]),\n",
       " array([ 1.      ,  0.345253]),\n",
       " array([ 1.        ,  0.47444414]),\n",
       " array([ 1.,  1.]),\n",
       " array([ 1.        ,  0.01312871]),\n",
       " array([ 1.        ,  0.09096943]),\n",
       " array([ 1.        ,  0.24576592]),\n",
       " array([ 1.        ,  0.05035485]),\n",
       " array([ 1.        ,  0.18538551]),\n",
       " array([ 1.        ,  0.16921769]),\n",
       " array([ 1.        ,  0.17867851]),\n",
       " array([ 1.        ,  0.03373292]),\n",
       " array([ 1.        ,  0.45464919]),\n",
       " array([ 1.        ,  0.07722941]),\n",
       " array([ 1.        ,  0.02212376]),\n",
       " array([ 1.        ,  0.10803384]),\n",
       " array([ 1.        ,  0.38897654]),\n",
       " array([ 1.        ,  0.04347902]),\n",
       " array([ 1.        ,  0.16288913]),\n",
       " array([ 1.        ,  0.12029506]),\n",
       " array([ 1.        ,  0.00252094]),\n",
       " array([ 1.        ,  0.04509173]),\n",
       " array([ 1.        ,  0.38851078]),\n",
       " array([ 1.        ,  0.02996606]),\n",
       " array([ 1.        ,  0.14632542]),\n",
       " array([ 1.       ,  0.0163483]),\n",
       " array([ 1.        ,  0.13955438]),\n",
       " array([ 1.        ,  0.14998748]),\n",
       " array([ 1.        ,  0.07603007]),\n",
       " array([ 1.        ,  0.07754962]),\n",
       " array([ 1.        ,  0.07261835]),\n",
       " array([ 1.        ,  0.03567748]),\n",
       " array([ 1.        ,  0.24937559]),\n",
       " array([ 1.       ,  0.2577244]),\n",
       " array([ 1.        ,  0.22115032]),\n",
       " array([ 1.        ,  0.00887279]),\n",
       " array([ 1.        ,  0.94620432]),\n",
       " array([ 1.        ,  0.57528193]),\n",
       " array([ 1.        ,  0.81113291]),\n",
       " array([ 1.        ,  0.12757844]),\n",
       " array([ 1.        ,  0.19027602]),\n",
       " array([ 1.        ,  0.30327606]),\n",
       " array([ 1.        ,  0.02750916]),\n",
       " array([ 1.        ,  0.89159355]),\n",
       " array([ 1.        ,  0.29745402]),\n",
       " array([ 1.        ,  0.13434947]),\n",
       " array([ 1.        ,  0.05701527]),\n",
       " array([ 1.        ,  0.12802673]),\n",
       " array([ 1.,  0.]),\n",
       " array([ 1.        ,  0.08855328]),\n",
       " array([ 1.        ,  0.14623226]),\n",
       " array([  1.00000000e+00,   5.58916168e-04]),\n",
       " array([ 1.        ,  0.30548844]),\n",
       " array([ 1.        ,  0.00470421]),\n",
       " array([ 1.        ,  0.04088821]),\n",
       " array([ 1.       ,  0.0094026]),\n",
       " array([ 1.        ,  0.07736331]),\n",
       " array([ 1.        ,  0.27606965]),\n",
       " array([ 1.        ,  0.08669023]),\n",
       " array([ 1.        ,  0.20320678]),\n",
       " array([ 1.        ,  0.24180693]),\n",
       " array([ 1.        ,  0.05677075]),\n",
       " array([ 1.        ,  0.02873178]),\n",
       " array([ 1.        ,  0.00189216]),\n",
       " array([ 1.        ,  0.03963647]),\n",
       " array([ 1.        ,  0.15193787]),\n",
       " array([ 1.       ,  0.0491264]),\n",
       " array([ 1.        ,  0.01621439]),\n",
       " array([ 1.        ,  0.19017705]),\n",
       " array([ 1.       ,  0.4871362]),\n",
       " array([ 1.        ,  0.02387038])]"
      ]
     },
     "execution_count": 8,
     "metadata": {},
     "output_type": "execute_result"
    }
   ],
   "source": [
    "feature_vectors"
   ]
  },
  {
   "cell_type": "markdown",
   "metadata": {},
   "source": [
    "params is a vector containing the parameters."
   ]
  },
  {
   "cell_type": "code",
   "execution_count": 9,
   "metadata": {
    "collapsed": true
   },
   "outputs": [],
   "source": [
    "params = np.zeros(n + 1)"
   ]
  },
  {
   "cell_type": "markdown",
   "metadata": {},
   "source": [
    "evalHypothesisAt() evaluates the hypothesis at a certain index in the feature_vectors."
   ]
  },
  {
   "cell_type": "code",
   "execution_count": 10,
   "metadata": {
    "collapsed": true
   },
   "outputs": [],
   "source": [
    "def evalHypothesisAt(i):\n",
    "    return np.dot(params, feature_vectors[i])"
   ]
  },
  {
   "cell_type": "markdown",
   "metadata": {},
   "source": [
    "output_vector contains all the output values."
   ]
  },
  {
   "cell_type": "code",
   "execution_count": 11,
   "metadata": {
    "collapsed": true
   },
   "outputs": [],
   "source": [
    "output_vector = data.iloc[:, n + 1].values"
   ]
  },
  {
   "cell_type": "markdown",
   "metadata": {},
   "source": [
    "evalCost() evaluates the cost function."
   ]
  },
  {
   "cell_type": "code",
   "execution_count": 12,
   "metadata": {
    "collapsed": true
   },
   "outputs": [],
   "source": [
    "def evalCost():\n",
    "    csum = 0\n",
    "    for i in range(m):\n",
    "        csum += (evalHypothesisAt(i) - output_vector[i])**2\n",
    "    return csum/(2*m)"
   ]
  },
  {
   "cell_type": "raw",
   "metadata": {},
   "source": [
    "gradDesc() is the gradient descent algorithm for learning rate alpha."
   ]
  },
  {
   "cell_type": "code",
   "execution_count": 13,
   "metadata": {
    "collapsed": true
   },
   "outputs": [],
   "source": [
    "def gradDesc(alpha):\n",
    "    global params\n",
    "    sumX = np.zeros(n+1)\n",
    "    for i in range(m):\n",
    "        sumX += (evalHypothesisAt(i) - output_vector[i])*np.asarray(feature_vectors[i])\n",
    "    params = params - (alpha/m)*sumX"
   ]
  },
  {
   "cell_type": "markdown",
   "metadata": {},
   "source": [
    "Store the cost function and iterations to plot them later, and apply gradient descent."
   ]
  },
  {
   "cell_type": "code",
   "execution_count": 14,
   "metadata": {
    "collapsed": true
   },
   "outputs": [],
   "source": [
    "cost = []\n",
    "iters = []\n",
    "for i in range(1000):\n",
    "    cost.append(evalCost())\n",
    "    iters.append(i)\n",
    "    gradDesc(0.5)"
   ]
  },
  {
   "cell_type": "markdown",
   "metadata": {},
   "source": [
    "Evaluate the hypothesis at all points in the training set, and plot the line."
   ]
  },
  {
   "cell_type": "code",
   "execution_count": 15,
   "metadata": {},
   "outputs": [
    {
     "name": "stdout",
     "output_type": "stream",
     "text": [
      "[ 0.17825531  0.7638249 ]\n"
     ]
    },
    {
     "data": {
      "image/png": "[encoded data removed]",
      "text/plain": [
       "<matplotlib.figure.Figure at 0x16bf06cf668>"
      ]
     },
     "metadata": {},
     "output_type": "display_data"
    }
   ],
   "source": [
    "ar = []\n",
    "for k in range(m):\n",
    "    ar.append(evalHypothesisAt(k))\n",
    "    \n",
    "print(params)\n",
    "plt.plot(data.iloc[:, 1], ar, color = 'g', label='Prediction')\n",
    "plt.scatter(data.iloc[:, 1], data.iloc[:, 2], c='r', marker='x', label='Training Set')\n",
    "plt.xlabel('Population in 10,000s')\n",
    "plt.ylabel('Profit in $10,000s')\n",
    "plt.title('Profit vs Population')\n",
    "plt.legend(loc=4)\n",
    "plt.show()"
   ]
  },
  {
   "cell_type": "markdown",
   "metadata": {},
   "source": [
    "Additional: plot cost function against iterations."
   ]
  },
  {
   "cell_type": "code",
   "execution_count": 16,
   "metadata": {},
   "outputs": [
    {
     "data": {
      "image/png": "[encoded data removed]",
      "text/plain": [
       "<matplotlib.figure.Figure at 0x16bf082cef0>"
      ]
     },
     "metadata": {},
     "output_type": "display_data"
    }
   ],
   "source": [
    "plt.plot(iters, cost, color='r', label='Cost')\n",
    "plt.ylabel('Cost')\n",
    "plt.xlabel('Iterations')\n",
    "plt.title('Cost vs Iterations')\n",
    "plt.legend()\n",
    "plt.show()"
   ]
  },
  {
   "cell_type": "markdown",
   "metadata": {},
   "source": [
    "Additional: plot cost function (normalized) for various parameter values as a surface plot."
   ]
  },
  {
   "cell_type": "code",
   "execution_count": 17,
   "metadata": {
    "collapsed": true
   },
   "outputs": [],
   "source": [
    "temp = params\n",
    "x = np.linspace(-10, 10, 100)\n",
    "y = np.linspace(-1, 4, 100)\n",
    "x, y = np.meshgrid(x, y)\n",
    "z = []\n",
    "for i in range(len(x)):\n",
    "    l = []\n",
    "    for j in range(len(x[i])):\n",
    "        params = [x[i][j], y[i][j]]\n",
    "        l.append(evalCost())\n",
    "    z.append(l)\n",
    "params = temp"
   ]
  },
  {
   "cell_type": "code",
   "execution_count": 18,
   "metadata": {},
   "outputs": [
    {
     "data": {
      "image/png": "[encoded data removed]",
      "text/plain": [
       "<matplotlib.figure.Figure at 0x16bf092e0f0>"
      ]
     },
     "metadata": {},
     "output_type": "display_data"
    }
   ],
   "source": [
    "fig = plt.figure()\n",
    "ax = fig.gca(projection='3d')\n",
    "surf = ax.plot_surface(x, y, z, cmap = cm.viridis, linewidth=0, antialiased=False)\n",
    "plt.show()"
   ]
  },
  {
   "cell_type": "markdown",
   "metadata": {},
   "source": [
    "Revert data and prediction to original (non-normalized state)."
   ]
  },
  {
   "cell_type": "code",
   "execution_count": 19,
   "metadata": {},
   "outputs": [
    {
     "data": {
      "image/png": "[encoded data removed]",
      "text/plain": [
       "<matplotlib.figure.Figure at 0x16bf1e48128>"
      ]
     },
     "metadata": {},
     "output_type": "display_data"
    }
   ],
   "source": [
    "data = pd.read_csv('ex1/ex1data1.txt', header=None, names=['population', 'profit'])\n",
    "\n",
    "tsum = 0\n",
    "for i in range(n):\n",
    "    tsum += ((params.flat[i + 1] * mins[i])/maxs[i])\n",
    "\n",
    "params.flat[0] = (maxs[n] * (params.flat[0] - tsum)) + mins[n]\n",
    "\n",
    "for i in range(1, n + 1):\n",
    "    params.flat[i] = (params.flat[i] * maxs[n])/maxs[i - 1]\n",
    "\n",
    "ar = []\n",
    "for k in range(m):\n",
    "    ar.append(np.dot(params, [1, data.iloc[k, :n]]))\n",
    "\n",
    "plt.plot(data.iloc[:, 0], ar, color = 'g', label='Prediction')\n",
    "plt.scatter(data.iloc[:, 0], data.iloc[:, 1], c='r', marker='x', label='Training Set')\n",
    "plt.xlabel('Population in 10,000s')\n",
    "plt.ylabel('Profit in $10,000s')\n",
    "plt.title('Profit vs Population')\n",
    "plt.legend(loc=4)\n",
    "plt.show()"
   ]
  }
 ],
 "metadata": {
  "kernelspec": {
   "display_name": "Python 3",
   "language": "python",
   "name": "python3"
  },
  "language_info": {
   "codemirror_mode": {
    "name": "ipython",
    "version": 3
   },
   "file_extension": ".py",
   "mimetype": "text/x-python",
   "name": "python",
   "nbconvert_exporter": "python",
   "pygments_lexer": "ipython3",
   "version": "3.6.2"
  }
 },
 "nbformat": 4,
 "nbformat_minor": 2
}
